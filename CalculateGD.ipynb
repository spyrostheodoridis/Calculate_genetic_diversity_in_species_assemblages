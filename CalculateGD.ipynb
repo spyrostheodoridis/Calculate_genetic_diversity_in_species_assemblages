{
 "cells": [
  {
   "cell_type": "code",
   "execution_count": 81,
   "metadata": {},
   "outputs": [],
   "source": [
    "import pickle\n",
    "import os\n",
    "import pandas as pd\n",
    "import numpy as np\n",
    "import re\n",
    "import itertools\n",
    "import time\n",
    "import pickle\n",
    "import math\n",
    "from math import sin, cos, sqrt, atan2, radians\n",
    "from IPython.display import clear_output"
   ]
  },
  {
   "cell_type": "code",
   "execution_count": 82,
   "metadata": {},
   "outputs": [],
   "source": [
    "#select marker\n",
    "marker = 'cytb' # co1"
   ]
  },
  {
   "cell_type": "code",
   "execution_count": 83,
   "metadata": {},
   "outputs": [
    {
     "data": {
      "text/plain": [
       "1437"
      ]
     },
     "execution_count": 83,
     "metadata": {},
     "output_type": "execute_result"
    }
   ],
   "source": [
    "# Load file with filtered sequences\n",
    "coords = pd.read_csv('data/{}_coordinates.csv'.format(marker), index_col=0)\n",
    "#coords.dropna(inplace=True)\n",
    "mammsSP = set(coords.species)\n",
    "\n",
    "len(mammsSP)"
   ]
  },
  {
   "cell_type": "markdown",
   "metadata": {},
   "source": [
    "### Function to calculate GD per species and spatial unit\n",
    "\n",
    "$\\widehat{\\Pi} = \\frac{1}{n \\choose 2} \\displaystyle\\sum_{i=1}^{n-1} \\sum_{j=i+1}^{n} \\frac{k_{ij}} {m_{ij}}$\n",
    "\n",
    "$n$ is the number of sequences of the species in the cell\n",
    "\n",
    "$k_{ij}$ is the number of different nucleotides between sequence i and sequence j\n",
    "\n",
    "$m_{ij}$ is the number of shared base pairs between sequence i and j"
   ]
  },
  {
   "cell_type": "code",
   "execution_count": 84,
   "metadata": {},
   "outputs": [],
   "source": [
    "def calculateSpGD(fastaSegs, cellSeqs, includedSeqs, GDthrs = 1):\n",
    "    pairGD = []\n",
    "    pairDst = []\n",
    "    nOfSeqs = set()\n",
    "    newCellSeqs = [s for s in cellSeqs if s in ''.join(includedSeqs)]\n",
    "    sequenceComb = list(itertools.combinations(newCellSeqs, 2))\n",
    "    if len(sequenceComb) > 0:\n",
    "        for combo in sequenceComb:\n",
    "            seq1 = re.search('{}.*\\n(.*?)\\n'.format(combo[0]), fastaSegs).group(1)\n",
    "            seq2 = re.search('{}.*\\n(.*?)\\n'.format(combo[1]), fastaSegs).group(1)\n",
    "            siteList = list(zip(seq1, seq2))\n",
    "            overlapLen = len([i for i in siteList if '-' not in i and 'N' not in i])\n",
    "            if overlapLen >= 0.5*max([len(seq1.replace('-',  '').replace('N', '')), len(seq2.replace('-',  '').replace('N', ''))]): #if sequences overlap in at least x% of the longest sequence\n",
    "                NumberOfSNPs = sum([1 for i in siteList if '-' not in i and 'N' not in i and len(set(i)) > 1])\n",
    "                OnePairGD = NumberOfSNPs / overlapLen\n",
    "                if OnePairGD < GDthrs: #maximum GD per pair\n",
    "                    pairGD.append(OnePairGD)\n",
    "                    nOfSeqs.add(combo[0])\n",
    "                    nOfSeqs.add(combo[1])\n",
    "                    #get distance\n",
    "                    xc1 = coords.loc[combo[0]]['x']\n",
    "                    yc1 = coords.loc[combo[0]]['y']\n",
    "                    xc2 = coords.loc[combo[1]]['x']\n",
    "                    yc2 = coords.loc[combo[1]]['y']\n",
    "                    dst = getDistanceHarv(xc1, yc1, xc2, yc2, 6371)\n",
    "                    pairDst.append(dst)\n",
    "        if len(pairGD) == 0:\n",
    "            return np.nan, np.nan, []\n",
    "        else:\n",
    "            return pairGD, pairDst, nOfSeqs\n",
    "    else:\n",
    "        return np.nan, np.nan, []\n",
    "    \n",
    "    \n",
    "#functions for geographic distance\n",
    "def deg2rad(deg):\n",
    "    return deg * (math.pi/180)\n",
    "\n",
    "def getDistanceHarv(lon1, lat1, lon2, lat2, earthRadius):\n",
    "    lo1, la1, lo2, la2 = radians(lon1), radians(lat1), radians(lon2), radians(lat2)\n",
    "    \n",
    "    R = earthRadius # Radius of the earth in km\n",
    "    dlon = deg2rad(lon2-lon1)\n",
    "    dlat = deg2rad(lat2-lat1)\n",
    "   \n",
    "    a = sin(dlat / 2)**2 + cos(la1) * cos(la2) * sin(dlon / 2)**2\n",
    "    c = 2 * atan2(sqrt(a), sqrt(1 - a))\n",
    "\n",
    "    d = R * c\n",
    "    return d;"
   ]
  },
  {
   "cell_type": "markdown",
   "metadata": {},
   "source": [
    "### Calculate GD per species and grid-cell"
   ]
  },
  {
   "cell_type": "code",
   "execution_count": 85,
   "metadata": {},
   "outputs": [
    {
     "name": "stdout",
     "output_type": "stream",
     "text": [
      "cell 928 of 928\n",
      "--- 778.8917970657349 seconds ---\n",
      "\n",
      "\n",
      "\n"
     ]
    }
   ],
   "source": [
    "### load python dictionary with cell id sequences per cell. This dictionary was created in the previous step (1_AssignSequencesToSpatialUnits.ipynb)\n",
    "sd = pickle.load(open( 'data/assigned_sequences/seqsPerGrid_{}.p'.format(marker), \"rb\" ))    \n",
    "#new dictionary to store GD for mammals\n",
    "GDperSPmamms = {}\n",
    "#get the all filtered sequences\n",
    "inSeqs = coords.index\n",
    "\n",
    "start_time = time.time()\n",
    "totCells = len(sd)\n",
    "cellGD = {}\n",
    "\n",
    "for ci, cell in enumerate(sd):\n",
    "    clear_output(wait=True)\n",
    "    print('cell {} of {}'.format(ci+1, totCells))\n",
    "\n",
    "    mammalGD = []\n",
    "    NmammalSpecies = 0\n",
    "    NmammalSeqs = 0\n",
    "    amphGD = []\n",
    "    NamphSpecies = 0\n",
    "    NamphSeqs = 0\n",
    "\n",
    "    for species in sd[cell]:\n",
    "        # select species with at least 2 sequences\n",
    "        if len(sd[cell][species]) > 1:\n",
    "            if species in mammsSP:\n",
    "                #load alignment\n",
    "                with open('data/mammals_{}/{}.fasta'.format(marker, species)) as inf:\n",
    "                    data=inf.read()\n",
    "                    allPairGD, allPairDist, totSeqs = calculateSpGD(data, sd[cell][species], inSeqs)\n",
    "                    #store n of seqs and GD\n",
    "                    GDperSPmamms.setdefault(cell, {})[species] = {'nOfSeqs': totSeqs, 'GD': allPairGD, 'Dist': allPairDist}\n",
    "\n",
    "\n",
    "print('--- %s seconds ---\\n\\n\\n' % (time.time() - start_time))\n",
    "\n",
    "#save dictionary\n",
    "#with open('data/GD_cells_{}.p'.format(marker), 'wb') as fp:\n",
    "#    pickle.dump(GDperSPmamms, fp, protocol=pickle.HIGHEST_PROTOCOL)"
   ]
  },
  {
   "cell_type": "code",
   "execution_count": null,
   "metadata": {},
   "outputs": [],
   "source": [
    "# Data per grid cell can be summarized using the following lines\n",
    "#get mean GD\n",
    "meanGD = {c: np.mean([np.nanmean(GDperSPmamms[c][s]['GD']) for s in GDperSPmamms[c] if isinstance(GDperSPmamms[c][s]['GD'], list) ] ) for c in GDperSPmamms }\n",
    "#get number of sampled species\n",
    "mammalTaxa = {c: len([GDperSPmamms[c][s] for s in GDperSPmamms[c] if isinstance(GDperSPmamms[c][s]['GD'], list) ]) for c in GDperSPmamms}\n",
    "#get number of sampled sequences\n",
    "mammalSeqs = {c: np.sum([len(GDperSPmamms[c][s]['nOfSeqs']) for s in GDperSPmamms[c] if isinstance(GDperSPmamms[c][s]['GD'], list) ]) for c in GDperSPmamms}"
   ]
  },
  {
   "cell_type": "code",
   "execution_count": null,
   "metadata": {},
   "outputs": [],
   "source": []
  },
  {
   "cell_type": "markdown",
   "metadata": {},
   "source": [
    "### Calculate GD per species and Wallace region"
   ]
  },
  {
   "cell_type": "code",
   "execution_count": 89,
   "metadata": {},
   "outputs": [],
   "source": [
    "sd = pickle.load(open( 'data/assigned_sequences/seqsPerWallaceRegion_{}.p'.format(marker), 'rb' ))\n",
    "\n",
    "start_time = time.time()\n",
    "totRegions = len(sd)\n",
    "#new dictionary to store GD for mammals\n",
    "wallGD = {}\n",
    "\n",
    "#get the all filtered sequences\n",
    "inSeqs = coords.index\n",
    "\n",
    "for wi, regio in enumerate(sd):\n",
    "    print('Region {} of {}: {}'.format(wi+1, totRegions, regio))\n",
    "\n",
    "    for species in sd[regio]:\n",
    "        # select species with at least 2 sequences\n",
    "        if len(sd[regio][species]) > 1:\n",
    "            if species in mammsSP:\n",
    "                #load alignment\n",
    "                with open('data/mammals_{}/{}.fasta'.format(marker, species)) as inf:\n",
    "                    data=inf.read()\n",
    "                    allPairGD, allPairDist, totSeqs = calculateSpGD(data, sd[regio][species], inSeqs)\n",
    "                    #store n of seqs and GD\n",
    "                    wallGD.setdefault(regio, {})[species] = {'nOfSeqs': totSeqs, 'GD': allPairGD, 'Dist': allPairDist}\n",
    "                    \n",
    "    print(np.mean([np.nanmean(wallGD[regio][s]['GD']) for s in wallGD[regio] if isinstance(wallGD[regio][s]['GD'], list) ] ))\n",
    "                    \n",
    "#save dictionary\n",
    "with open('data/GD_wallace_{}.p'.format(marker), 'wb') as fp:\n",
    "    pickle.dump(wallGD, fp, protocol=pickle.HIGHEST_PROTOCOL)"
   ]
  },
  {
   "cell_type": "code",
   "execution_count": null,
   "metadata": {},
   "outputs": [],
   "source": []
  }
 ],
 "metadata": {
  "kernelspec": {
   "display_name": "Python 3",
   "language": "python",
   "name": "python3"
  },
  "language_info": {
   "codemirror_mode": {
    "name": "ipython",
    "version": 3
   },
   "file_extension": ".py",
   "mimetype": "text/x-python",
   "name": "python",
   "nbconvert_exporter": "python",
   "pygments_lexer": "ipython3",
   "version": "3.7.6"
  }
 },
 "nbformat": 4,
 "nbformat_minor": 4
}
