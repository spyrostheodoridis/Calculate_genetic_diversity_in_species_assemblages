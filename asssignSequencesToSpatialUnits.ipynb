{
 "cells": [
  {
   "cell_type": "code",
   "execution_count": 1,
   "metadata": {},
   "outputs": [],
   "source": [
    "import pandas as pd\n",
    "import time\n",
    "from shapely.geometry import shape, mapping, Point\n",
    "import fiona\n",
    "import pickle\n",
    "import numpy as np\n",
    "\n",
    "from IPython.display import clear_output"
   ]
  },
  {
   "cell_type": "code",
   "execution_count": 2,
   "metadata": {},
   "outputs": [],
   "source": [
    "marker = 'cytb' #co1"
   ]
  },
  {
   "cell_type": "code",
   "execution_count": null,
   "metadata": {},
   "outputs": [],
   "source": [
    "# Load file with species names, sequence IDs and coordinates, column names should be 'seq', 'species', 'y', 'x'\n",
    "coords = pd.read_csv('place file name here', sep='\\t')\n",
    "coords.dropna(inplace=True)\n",
    "mammsSP = set(coords.species)\n",
    "\n",
    "len(mammsSP)"
   ]
  },
  {
   "cell_type": "markdown",
   "metadata": {},
   "source": [
    "#### Assign sequences to grid cells"
   ]
  },
  {
   "cell_type": "code",
   "execution_count": null,
   "metadata": {},
   "outputs": [],
   "source": [
    "#create a copy of the coordinate file\n",
    "allAnimals = coords.copy(deep=True)\n",
    "# Get sequences in cells\n",
    "#load a geojson file with the grid cells\n",
    "with fiona.open('place file here.json') as landGrid:\n",
    "    cellDic = {} # create dictionary to store results\n",
    "    print('evaluating sequences for grid')\n",
    "    start_time = time.time()\n",
    "    # check each polygon if it contains the points\n",
    "    totalCells = len(landGrid)\n",
    "    for ci, feature in enumerate(landGrid):\n",
    "        cellID = feature['properties']['cellID']\n",
    "        clear_output(wait=True)\n",
    "        print('cell {} of {}'.format(ci+1, totalCells) )\n",
    "        polygon = shape(feature['geometry'])\n",
    "        for index, row in allAnimals.iterrows():\n",
    "            p = Point(float(row['x']), float(row['y']))\n",
    "            #ony cells that contain sequences will be saved\n",
    "            if p.within(polygon):\n",
    "                allAnimals.drop([index], inplace=True) #remove point contained in the cell\n",
    "                cellDic.setdefault(cellID, {}).setdefault(row['species'], []).append(row['seq'])\n",
    "            #if points touches the polygon keep it in the data set to be included in ther next polygon as well\n",
    "            if p.touches(polygon):\n",
    "                cellDic.setdefault(cellID, {}).setdefault(row['species'], []).append(row['seq'])\n",
    "    \n",
    "    #save file\n",
    "    with open('{}/grid.p'.format(marker), 'wb') as fp:\n",
    "        pickle.dump(cellDic, fp, protocol=pickle.HIGHEST_PROTOCOL)\n",
    "\n",
    "print('--- %s seconds ---\\n\\n' % (time.time() - start_time))"
   ]
  },
  {
   "cell_type": "markdown",
   "metadata": {},
   "source": [
    "#### Assign sequences to latitudinal bands"
   ]
  },
  {
   "cell_type": "code",
   "execution_count": null,
   "metadata": {},
   "outputs": [],
   "source": [
    "#create a copy of the coordinate file\n",
    "allAnimals = coords.copy(deep=True) \n",
    "# Get sequences in cells\n",
    "#load a geojson file with the lat bands\n",
    "with fiona.open('place file here.json') as latBands:\n",
    "    bandDic = {} # create dictionary to store results\n",
    "    print('evaluating sequences for bands')\n",
    "    start_time = time.time()\n",
    "    # check each polygon if it contains the points\n",
    "    totalBands = len(latBands)\n",
    "    for bi, feature in enumerate(latBands):\n",
    "        bandID = feature['properties']['cellID']\n",
    "        clear_output(wait=True)\n",
    "        print('band {} of {}'.format(bi+1, totalBands) )\n",
    "        polygon = shape(feature['geometry'])\n",
    "        for index, row in allAnimals.iterrows():\n",
    "            p = Point(float(row['x']), float(row['y']))\n",
    "            #ony cells that contain sequences will be saved\n",
    "            if p.within(polygon):\n",
    "                allAnimals.drop([index], inplace=True) #remove point contained in the cell\n",
    "                bandDic.setdefault(bandID, {}).setdefault(row['species'], []).append(row['seq'])\n",
    "            #if points touches the polygon keep it in the data set to be included in ther nxt polygon as well\n",
    "            if p.touches(polygon):\n",
    "                bandDic.setdefault(bandID, {}).setdefault(row['species'], []).append(row['seq'])\n",
    "\n",
    "    with open('{}/band.p'.format(marker), 'wb') as fp:\n",
    "        pickle.dump(bandDic, fp, protocol=pickle.HIGHEST_PROTOCOL)\n",
    "\n",
    "print('--- %s seconds ---\\n\\n' % (time.time() - start_time))"
   ]
  },
  {
   "cell_type": "markdown",
   "metadata": {},
   "source": [
    "#### Assign sequences to zoogeographic regions"
   ]
  },
  {
   "cell_type": "code",
   "execution_count": null,
   "metadata": {},
   "outputs": [],
   "source": [
    "#create a copy of the coordinate file\n",
    "allAnimals = coords.copy(deep=True) \n",
    "# Get sequences in cells\n",
    "#load a geojson file with the zoo regions\n",
    "with fiona.open('place file here.json') as wallace:\n",
    "    polyDic = {} # create dictionary to store results\n",
    "    start_time = time.time()\n",
    "    # check each polygon if it contains the points\n",
    "    totalRegions = len(wallace)\n",
    "    for ci, feature in enumerate(wallace):\n",
    "        clear_output(wait=True)\n",
    "        print('poly {} of {}'.format(ci+1, totalRegions) )\n",
    "        polygon = shape(feature['geometry'])\n",
    "        for index, row in allAnimals.iterrows():\n",
    "            p = Point(float(row['x']), float(row['y']))\n",
    "            if p.within(polygon):\n",
    "                allAnimals.drop([index], inplace=True) #remove point contained in the cell\n",
    "                polyDic.setdefault(feature['properties']['mam_upgma_'], {}).setdefault(row['species'], []).append(row['seq'])\n",
    "            #if points touches the polygon keep it in the data set to be included in ther nxt polygon as well\n",
    "            if p.touches(polygon):\n",
    "                polyDic.setdefault(feature['properties']['mam_upgma_'], {}).setdefault(row['species'], []).append(row['seq'])\n",
    "\n",
    "    with open('{}/wallace.p'.format(marker), 'wb') as fp:\n",
    "        pickle.dump(polyDic, fp, protocol=pickle.HIGHEST_PROTOCOL)\n",
    "\n",
    "print('--- %s seconds ---\\n\\n' % (time.time() - start_time))"
   ]
  }
 ],
 "metadata": {
  "kernelspec": {
   "display_name": "Python 3",
   "language": "python",
   "name": "python3"
  },
  "language_info": {
   "codemirror_mode": {
    "name": "ipython",
    "version": 3
   },
   "file_extension": ".py",
   "mimetype": "text/x-python",
   "name": "python",
   "nbconvert_exporter": "python",
   "pygments_lexer": "ipython3",
   "version": "3.7.4"
  }
 },
 "nbformat": 4,
 "nbformat_minor": 4
}
